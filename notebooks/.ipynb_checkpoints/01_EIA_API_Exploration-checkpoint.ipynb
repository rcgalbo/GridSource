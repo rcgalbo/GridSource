{
 "cells": [
  {
   "cell_type": "markdown",
   "metadata": {},
   "source": [
    "# EIA API Exploration\n",
    "\n",
    "This notebook explores the Energy Information Administration (EIA) API for electricity generation data.\n",
    "\n",
    "## Learning Objectives\n",
    "- Understand EIA API structure and endpoints\n",
    "- Explore electricity generation data by fuel type\n",
    "- Analyze patterns in California's electricity generation\n",
    "- Prepare data for ML pipeline integration"
   ]
  },
  {
   "cell_type": "code",
   "execution_count": null,
   "metadata": {},
   "outputs": [],
   "source": [
    "# Import required libraries\n",
    "import sys\n",
    "import os\n",
    "sys.path.append('..')\n",
    "\n",
    "import pandas as pd\n",
    "import numpy as np\n",
    "import matplotlib.pyplot as plt\n",
    "import seaborn as sns\n",
    "from datetime import datetime, timedelta\n",
    "import requests\n",
    "import json\n",
    "\n",
    "# Import our custom helper functions\n",
    "from research.data_helpers import APIExplorer, analyze_energy_patterns\n",
    "\n",
    "# Set up plotting\n",
    "plt.rcParams['figure.figsize'] = (12, 8)\n",
    "sns.set_style(\"whitegrid\")\n",
    "\n",
    "print(\"✅ Libraries imported successfully\")"
   ]
  },
  {
   "cell_type": "markdown",
   "metadata": {},
   "source": [
    "## 1. API Setup\n",
    "\n",
    "First, let's set up our API explorer. You can either:\n",
    "1. Use your own EIA API key (get one free at: https://www.eia.gov/opendata/register.php)\n",
    "2. Use sample data for exploration"
   ]
  },
  {
   "cell_type": "code",
   "execution_count": null,
   "metadata": {},
   "outputs": [],
   "source": [
    "# Option 1: Use your own API key\n",
    "# Uncomment and add your API key:\n",
    "# API_KEYS = {\n",
    "#     'eia_api_key': 'YOUR_EIA_API_KEY_HERE'\n",
    "# }\n",
    "\n",
    "# Option 2: Use sample data (no API key required)\n",
    "API_KEYS = {}\n",
    "\n",
    "# Initialize the explorer\n",
    "explorer = APIExplorer(API_KEYS)\n",
    "print(\"🔧 API Explorer initialized\")"
   ]
  },
  {
   "cell_type": "markdown",
   "metadata": {},
   "source": [
    "## 2. Basic EIA Data Exploration\n",
    "\n",
    "Let's start by exploring the EIA electricity generation data for California."
   ]
  },
  {
   "cell_type": "code",
   "execution_count": null,
   "metadata": {},
   "outputs": [],
   "source": [
    "# Fetch EIA data for the last 14 days\n",
    "eia_data = explorer.explore_eia_api(days=14, detailed=True)\n",
    "\n",
    "# Display basic information\n",
    "print(f\"\\n📊 EIA Data Summary:\")\n",
    "print(f\"Shape: {eia_data.shape}\")\n",
    "print(f\"\\nColumns: {list(eia_data.columns)}\")\n",
    "print(f\"\\nData types:\")\n",
    "print(eia_data.dtypes)"
   ]
  },
  {
   "cell_type": "code",
   "execution_count": null,
   "metadata": {},
   "outputs": [],
   "source": [
    "# Show first few rows\n",
    "print(\"🔍 First 10 rows of EIA data:\")\n",
    "eia_data.head(10)"
   ]
  },
  {
   "cell_type": "markdown",
   "metadata": {},
   "source": [
    "## 3. Data Quality Analysis\n",
    "\n",
    "Let's examine the quality and completeness of our EIA data."
   ]
  },
  {
   "cell_type": "code",
   "execution_count": null,
   "metadata": {},
   "outputs": [],
   "source": [
    "# Check for missing values\n",
    "print(\"🔍 Missing Values Analysis:\")\n",
    "missing_data = eia_data.isnull().sum()\n",
    "print(missing_data)\n",
    "\n",
    "# Check data completeness by fuel type\n",
    "print(\"\\n📊 Records by Fuel Type:\")\n",
    "fuel_counts = eia_data['fuel_type'].value_counts()\n",
    "print(fuel_counts)\n",
    "\n",
    "# Check date range coverage\n",
    "print(\"\\n📅 Date Coverage:\")\n",
    "print(f\"Start date: {eia_data['date'].min()}\")\n",
    "print(f\"End date: {eia_data['date'].max()}\")\n",
    "print(f\"Number of unique dates: {eia_data['date'].nunique()}\")"
   ]
  },
  {
   "cell_type": "markdown",
   "metadata": {},
   "source": [
    "## 4. Electricity Generation Analysis\n",
    "\n",
    "Now let's analyze the electricity generation patterns by fuel type."
   ]
  },
  {
   "cell_type": "code",
   "execution_count": null,
   "metadata": {},
   "outputs": [],
   "source": [
    "# Create summary statistics\n",
    "print(\"📈 Generation Statistics by Fuel Type:\")\n",
    "generation_stats = eia_data.groupby('fuel_type')['generation_mwh'].agg([\n",
    "    'count', 'mean', 'std', 'min', 'max', 'sum'\n",
    "]).round(2)\n",
    "\n",
    "generation_stats"
   ]
  },
  {
   "cell_type": "code",
   "execution_count": null,
   "metadata": {},
   "outputs": [],
   "source": [
    "# Visualize generation by fuel type\n",
    "fig, axes = plt.subplots(2, 2, figsize=(15, 12))\n",
    "fig.suptitle('California Electricity Generation Analysis', fontsize=16)\n",
    "\n",
    "# 1. Total generation by fuel type (bar chart)\n",
    "fuel_totals = eia_data.groupby('fuel_type')['generation_mwh'].sum().sort_values(ascending=False)\n",
    "fuel_totals.plot(kind='bar', ax=axes[0,0], color='skyblue')\n",
    "axes[0,0].set_title('Total Generation by Fuel Type')\n",
    "axes[0,0].set_ylabel('Generation (MWh)')\n",
    "axes[0,0].tick_params(axis='x', rotation=45)\n",
    "\n",
    "# 2. Daily generation trends (line chart)\n",
    "daily_generation = eia_data.groupby(['date', 'fuel_type'])['generation_mwh'].sum().unstack(fill_value=0)\n",
    "daily_generation.plot(ax=axes[0,1], marker='o')\n",
    "axes[0,1].set_title('Daily Generation Trends by Fuel Type')\n",
    "axes[0,1].set_ylabel('Generation (MWh)')\n",
    "axes[0,1].legend(title='Fuel Type')\n",
    "\n",
    "# 3. Generation distribution (box plot)\n",
    "eia_data.boxplot(column='generation_mwh', by='fuel_type', ax=axes[1,0])\n",
    "axes[1,0].set_title('Generation Distribution by Fuel Type')\n",
    "axes[1,0].set_xlabel('Fuel Type')\n",
    "axes[1,0].set_ylabel('Generation (MWh)')\n",
    "\n",
    "# 4. Stacked area chart of daily totals\n",
    "daily_generation.plot(kind='area', stacked=True, ax=axes[1,1], alpha=0.7)\n",
    "axes[1,1].set_title('Stacked Daily Generation')\n",
    "axes[1,1].set_ylabel('Generation (MWh)')\n",
    "axes[1,1].legend(title='Fuel Type', bbox_to_anchor=(1.05, 1), loc='upper left')\n",
    "\n",
    "plt.tight_layout()\n",
    "plt.show()"
   ]
  },
  {
   "cell_type": "markdown",
   "metadata": {},
   "source": [
    "## 5. Renewable vs Non-Renewable Analysis\n",
    "\n",
    "Let's categorize fuel types and analyze renewable vs non-renewable generation."
   ]
  },
  {
   "cell_type": "code",
   "execution_count": null,
   "metadata": {},
   "outputs": [],
   "source": [
    "# Define renewable vs non-renewable fuel types\n",
    "renewable_fuels = ['SUN', 'WND', 'WAT']  # Solar, Wind, Hydro\n",
    "non_renewable_fuels = ['NG']  # Natural Gas\n",
    "\n",
    "# Add renewable category\n",
    "eia_data['renewable'] = eia_data['fuel_type'].apply(\n",
    "    lambda x: 'Renewable' if x in renewable_fuels else 'Non-Renewable'\n",
    ")\n",
    "\n",
    "# Calculate renewable percentage\n",
    "renewable_analysis = eia_data.groupby(['date', 'renewable'])['generation_mwh'].sum().unstack(fill_value=0)\n",
    "renewable_analysis['total'] = renewable_analysis.sum(axis=1)\n",
    "renewable_analysis['renewable_pct'] = (renewable_analysis['Renewable'] / renewable_analysis['total']) * 100\n",
    "\n",
    "print(\"🌱 Renewable Energy Analysis:\")\n",
    "print(f\"Average renewable percentage: {renewable_analysis['renewable_pct'].mean():.1f}%\")\n",
    "print(f\"Renewable percentage range: {renewable_analysis['renewable_pct'].min():.1f}% - {renewable_analysis['renewable_pct'].max():.1f}%\")\n",
    "\n",
    "# Visualize renewable vs non-renewable\n",
    "fig, axes = plt.subplots(1, 2, figsize=(15, 6))\n",
    "\n",
    "# Pie chart of total generation\n",
    "total_by_category = eia_data.groupby('renewable')['generation_mwh'].sum()\n",
    "total_by_category.plot(kind='pie', ax=axes[0], autopct='%1.1f%%', startangle=90)\n",
    "axes[0].set_title('Total Generation: Renewable vs Non-Renewable')\n",
    "axes[0].set_ylabel('')\n",
    "\n",
    "# Daily renewable percentage trend\n",
    "renewable_analysis['renewable_pct'].plot(ax=axes[1], marker='o', color='green')\n",
    "axes[1].set_title('Daily Renewable Energy Percentage')\n",
    "axes[1].set_ylabel('Renewable %')\n",
    "axes[1].set_xlabel('Date')\n",
    "axes[1].grid(True, alpha=0.3)\n",
    "\n",
    "plt.tight_layout()\n",
    "plt.show()"
   ]
  },
  {
   "cell_type": "markdown",
   "metadata": {},
   "source": [
    "## 6. Time Series Patterns\n",
    "\n",
    "Let's examine time-based patterns in electricity generation."
   ]
  },
  {
   "cell_type": "code",
   "execution_count": null,
   "metadata": {},
   "outputs": [],
   "source": [
    "# Add time-based features\n",
    "eia_data['day_of_week'] = eia_data['date'].dt.day_name()\n",
    "eia_data['is_weekend'] = eia_data['date'].dt.weekday >= 5\n",
    "\n",
    "# Analyze patterns by day of week\n",
    "print(\"📅 Generation Patterns by Day of Week:\")\n",
    "daily_patterns = eia_data.groupby(['day_of_week', 'fuel_type'])['generation_mwh'].mean().unstack(fill_value=0)\n",
    "\n",
    "# Reorder days\n",
    "day_order = ['Monday', 'Tuesday', 'Wednesday', 'Thursday', 'Friday', 'Saturday', 'Sunday']\n",
    "daily_patterns = daily_patterns.reindex(day_order)\n",
    "\n",
    "print(daily_patterns.round(0))\n",
    "\n",
    "# Visualize weekly patterns\n",
    "fig, axes = plt.subplots(2, 1, figsize=(12, 10))\n",
    "\n",
    "# Heatmap of generation by day and fuel type\n",
    "sns.heatmap(daily_patterns.T, annot=True, fmt='.0f', cmap='YlOrRd', ax=axes[0])\n",
    "axes[0].set_title('Average Generation by Day of Week and Fuel Type (MWh)')\n",
    "axes[0].set_ylabel('Fuel Type')\n",
    "\n",
    "# Weekend vs weekday comparison\n",
    "weekend_comparison = eia_data.groupby(['is_weekend', 'fuel_type'])['generation_mwh'].mean().unstack(fill_value=0)\n",
    "weekend_comparison.index = ['Weekday', 'Weekend']\n",
    "weekend_comparison.plot(kind='bar', ax=axes[1], width=0.8)\n",
    "axes[1].set_title('Average Generation: Weekday vs Weekend')\n",
    "axes[1].set_ylabel('Generation (MWh)')\n",
    "axes[1].set_xlabel('Day Type')\n",
    "axes[1].tick_params(axis='x', rotation=0)\n",
    "axes[1].legend(title='Fuel Type')\n",
    "\n",
    "plt.tight_layout()\n",
    "plt.show()"
   ]
  },
  {
   "cell_type": "markdown",
   "metadata": {},
   "source": [
    "## 7. Data Preparation for ML Pipeline\n",
    "\n",
    "Let's prepare the EIA data in the format needed for our ML pipeline."
   ]
  },
  {
   "cell_type": "code",
   "execution_count": null,
   "metadata": {},
   "outputs": [],
   "source": [
    "# Aggregate daily generation for ML features\n",
    "ml_features = eia_data.groupby('date').agg({\n",
    "    'generation_mwh': 'sum'  # Total daily generation\n",
    "}).reset_index()\n",
    "\n",
    "# Add individual fuel type generation as separate features\n",
    "fuel_pivot = eia_data.pivot_table(\n",
    "    index='date', \n",
    "    columns='fuel_type', \n",
    "    values='generation_mwh', \n",
    "    aggfunc='sum',\n",
    "    fill_value=0\n",
    ").reset_index()\n",
    "\n",
    "# Rename columns with fuel_ prefix\n",
    "fuel_columns = {col: f'generation_{col.lower()}_mwh' for col in fuel_pivot.columns if col != 'date'}\n",
    "fuel_pivot = fuel_pivot.rename(columns=fuel_columns)\n",
    "\n",
    "# Merge with main features\n",
    "ml_features = ml_features.merge(fuel_pivot, on='date', how='left')\n",
    "\n",
    "# Add renewable percentage\n",
    "ml_features = ml_features.merge(\n",
    "    renewable_analysis[['renewable_pct']].reset_index(), \n",
    "    on='date', \n",
    "    how='left'\n",
    ")\n",
    "\n",
    "# Rename columns for clarity\n",
    "ml_features = ml_features.rename(columns={\n",
    "    'generation_mwh': 'total_generation_mwh',\n",
    "    'renewable_pct': 'renewable_percentage'\n",
    "})\n",
    "\n",
    "print(\"🔧 ML Features Dataset:\")\n",
    "print(f\"Shape: {ml_features.shape}\")\n",
    "print(f\"Columns: {list(ml_features.columns)}\")\n",
    "print(\"\\nFirst 5 rows:\")\n",
    "ml_features.head()"
   ]
  },
  {
   "cell_type": "code",
   "execution_count": null,
   "metadata": {},
   "outputs": [],
   "source": [
    "# Statistical summary of ML features\n",
    "print(\"📊 ML Features Statistical Summary:\")\n",
    "ml_features.describe().round(2)"
   ]
  },
  {
   "cell_type": "markdown",
   "metadata": {},
   "source": [
    "## 8. Data Quality Checks\n",
    "\n",
    "Let's perform some final data quality checks for our ML pipeline."
   ]
  },
  {
   "cell_type": "code",
   "execution_count": null,
   "metadata": {},
   "outputs": [],
   "source": [
    "# Check for data quality issues\n",
    "print(\"🔍 Data Quality Assessment:\")\n",
    "\n",
    "# Missing values\n",
    "missing_values = ml_features.isnull().sum()\n",
    "print(f\"\\n❌ Missing values:\")\n",
    "for col, missing in missing_values.items():\n",
    "    if missing > 0:\n",
    "        print(f\"  {col}: {missing} ({missing/len(ml_features)*100:.1f}%)\")\n",
    "    else:\n",
    "        print(f\"  {col}: ✅ No missing values\")\n",
    "\n",
    "# Negative values (shouldn't exist for generation)\n",
    "numeric_cols = ml_features.select_dtypes(include=[np.number]).columns\n",
    "print(f\"\\n🔢 Negative values check:\")\n",
    "for col in numeric_cols:\n",
    "    negative_count = (ml_features[col] < 0).sum()\n",
    "    if negative_count > 0:\n",
    "        print(f\"  {col}: ❌ {negative_count} negative values\")\n",
    "    else:\n",
    "        print(f\"  {col}: ✅ No negative values\")\n",
    "\n",
    "# Outliers (using IQR method)\n",
    "print(f\"\\n📊 Outlier detection (IQR method):\")\n",
    "for col in numeric_cols:\n",
    "    Q1 = ml_features[col].quantile(0.25)\n",
    "    Q3 = ml_features[col].quantile(0.75)\n",
    "    IQR = Q3 - Q1\n",
    "    lower_bound = Q1 - 1.5 * IQR\n",
    "    upper_bound = Q3 + 1.5 * IQR\n",
    "    \n",
    "    outliers = ((ml_features[col] < lower_bound) | (ml_features[col] > upper_bound)).sum()\n",
    "    print(f\"  {col}: {outliers} outliers ({outliers/len(ml_features)*100:.1f}%)\")"
   ]
  },
  {
   "cell_type": "markdown",
   "metadata": {},
   "source": [
    "## 9. Save Processed Data\n",
    "\n",
    "Finally, let's save our processed EIA data for use in other notebooks and the ML pipeline."
   ]
  },
  {
   "cell_type": "code",
   "execution_count": null,
   "metadata": {},
   "outputs": [],
   "source": [
    "# Create output directory\n",
    "output_dir = '../research_output'\n",
    "os.makedirs(output_dir, exist_ok=True)\n",
    "\n",
    "# Save raw EIA data\n",
    "eia_data.to_csv(f'{output_dir}/eia_raw_data.csv', index=False)\n",
    "print(f\"✅ Saved raw EIA data: {len(eia_data)} records\")\n",
    "\n",
    "# Save ML features\n",
    "ml_features.to_csv(f'{output_dir}/eia_ml_features.csv', index=False)\n",
    "print(f\"✅ Saved ML features: {len(ml_features)} records\")\n",
    "\n",
    "# Save summary statistics\n",
    "summary_stats = {\n",
    "    'total_records': len(eia_data),\n",
    "    'date_range': f\"{eia_data['date'].min()} to {eia_data['date'].max()}\",\n",
    "    'fuel_types': eia_data['fuel_type'].unique().tolist(),\n",
    "    'total_generation_mwh': eia_data['generation_mwh'].sum(),\n",
    "    'avg_daily_generation_mwh': ml_features['total_generation_mwh'].mean(),\n",
    "    'avg_renewable_pct': ml_features['renewable_percentage'].mean()\n",
    "}\n",
    "\n",
    "with open(f'{output_dir}/eia_summary.json', 'w') as f:\n",
    "    json.dump(summary_stats, f, indent=2, default=str)\n",
    "print(f\"✅ Saved summary statistics\")\n",
    "\n",
    "print(\"\\n🎉 EIA API exploration complete!\")\n",
    "print(f\"📁 Files saved to: {output_dir}\")"
   ]
  },
  {
   "cell_type": "markdown",
   "metadata": {},
   "source": [
    "## Summary\n",
    "\n",
    "In this notebook, we:\n",
    "\n",
    "1. **✅ Explored the EIA API** structure and data format\n",
    "2. **✅ Analyzed electricity generation** patterns by fuel type\n",
    "3. **✅ Examined renewable vs non-renewable** energy trends\n",
    "4. **✅ Identified time-based patterns** (weekday vs weekend)\n",
    "5. **✅ Prepared data for ML pipeline** with proper feature engineering\n",
    "6. **✅ Performed data quality checks** for missing values and outliers\n",
    "7. **✅ Saved processed data** for future use\n",
    "\n",
    "## Key Insights\n",
    "\n",
    "- **Natural Gas (NG)** is the dominant fuel source for electricity generation\n",
    "- **Solar (SUN)** shows significant daily variation\n",
    "- **Renewable percentage** varies day-to-day based on weather conditions\n",
    "- **Weekend patterns** may differ from weekday electricity demand\n",
    "\n",
    "## Next Steps\n",
    "\n",
    "1. Explore weather data to understand solar/wind generation patterns\n",
    "2. Analyze economic indicators that might affect energy demand\n",
    "3. Combine all data sources for comprehensive ML feature engineering\n",
    "4. Build and test liquidity forecasting models"
   ]
  }
 ],
 "metadata": {
  "kernelspec": {
   "display_name": "Python 3",
   "language": "python",
   "name": "python3"
  },
  "language_info": {
   "codemirror_mode": {
    "name": "ipython",
    "version": 3
   },
   "file_extension": ".py",
   "mimetype": "text/x-python",
   "name": "python",
   "nbconvert_exporter": "python",
   "pygments_lexer": "ipython3",
   "version": "3.8.10"
  }
 },
 "nbformat": 4,
 "nbformat_minor": 4
}